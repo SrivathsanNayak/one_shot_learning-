{
  "nbformat": 4,
  "nbformat_minor": 5,
  "metadata": {
    "kernelspec": {
      "display_name": "Python 3",
      "language": "python",
      "name": "python3"
    },
    "language_info": {
      "codemirror_mode": {
        "name": "ipython",
        "version": 3
      },
      "file_extension": ".py",
      "mimetype": "text/x-python",
      "name": "python",
      "nbconvert_exporter": "python",
      "pygments_lexer": "ipython3",
      "version": "3.9.5"
    },
    "colab": {
      "name": "siamesse_networks.ipynb",
      "provenance": [],
      "collapsed_sections": [],
      "include_colab_link": true
    },
    "accelerator": "GPU"
  },
  "cells": [
    {
      "cell_type": "markdown",
      "metadata": {
        "id": "view-in-github",
        "colab_type": "text"
      },
      "source": [
        "<a href=\"https://colab.research.google.com/github/adiasija2011/DSA_Python/blob/main/siamesse_networks.ipynb\" target=\"_parent\"><img src=\"https://colab.research.google.com/assets/colab-badge.svg\" alt=\"Open In Colab\"/></a>"
      ]
    },
    {
      "cell_type": "markdown",
      "metadata": {
        "id": "1EdxavFAJKa_"
      },
      "source": [
        "Importing Libraries\n"
      ],
      "id": "1EdxavFAJKa_"
    },
    {
      "cell_type": "markdown",
      "metadata": {
        "id": "x3ZIa3YNJTd0"
      },
      "source": [
        "Importing the dataset\n"
      ],
      "id": "x3ZIa3YNJTd0"
    },
    {
      "cell_type": "code",
      "metadata": {
        "id": "1073a52d"
      },
      "source": [
        "import numpy as np\n",
        "import matplotlib.pyplot as plt\n",
        "\n",
        "from sklearn.datasets import fetch_olivetti_faces\n",
        "from sklearn.utils.validation import check_random_state"
      ],
      "id": "1073a52d",
      "execution_count": null,
      "outputs": []
    },
    {
      "cell_type": "code",
      "metadata": {
        "id": "07d6ff46",
        "colab": {
          "base_uri": "https://localhost:8080/"
        },
        "outputId": "2c731481-85ab-4cec-a4b4-39fb4722f14c"
      },
      "source": [
        "data = fetch_olivetti_faces() #dataset to train and test ton"
      ],
      "id": "07d6ff46",
      "execution_count": null,
      "outputs": [
        {
          "output_type": "stream",
          "text": [
            "downloading Olivetti faces from https://ndownloader.figshare.com/files/5976027 to /root/scikit_learn_data\n"
          ],
          "name": "stdout"
        }
      ]
    },
    {
      "cell_type": "markdown",
      "metadata": {
        "id": "I1KVk1wHJZ8i"
      },
      "source": [
        "CNN MODEL\n"
      ],
      "id": "I1KVk1wHJZ8i"
    },
    {
      "cell_type": "code",
      "metadata": {
        "id": "be86ddb5"
      },
      "source": [
        "\n",
        "def create_model():\n",
        "    inputs=keras.Input((64,64,1))\n",
        "    x = layers.Conv2D(64, (11, 11), padding=\"same\", activation=\"relu\")(inputs)\n",
        "    x = layers.Conv2D(64, (11, 11), padding=\"same\", activation=\"relu\")(x)\n",
        "    x = layers.MaxPooling2D(pool_size=(2, 2))(x)\n",
        "    x = layers.Dropout(0.3)(x)\n",
        "\n",
        "    x = layers.Conv2D(128, (5, 5), padding=\"same\", activation=\"relu\")(x)\n",
        "    x = layers.Conv2D(128, (5, 5), padding=\"same\", activation=\"relu\")(x)\n",
        "    x = layers.MaxPooling2D(pool_size=(2, 2))(x)\n",
        "    x = layers.Dropout(0.3)(x)\n",
        "\n",
        "    x = layers.Conv2D(256, (3, 3), padding=\"same\", activation=\"relu\")(x)\n",
        "    x = layers.Conv2D(256, (3, 3), padding=\"same\", activation=\"relu\")(x)\n",
        "    x = layers.MaxPooling2D(pool_size=(2, 2))(x)\n",
        "    x = layers.Dropout(0.3)(x)\n",
        "\n",
        "    pooledOutput = layers.GlobalAveragePooling2D()(x)\n",
        "    pooledOutput = layers.Dense(1024)(pooledOutput)\n",
        "    outputs = layers.Dense(128)(pooledOutput)\n",
        "\n",
        "    model = keras.Model(inputs, outputs)\n",
        "    return model\n",
        "    "
      ],
      "id": "be86ddb5",
      "execution_count": null,
      "outputs": []
    },
    {
      "cell_type": "markdown",
      "metadata": {
        "id": "Jj6XRTQcJrPY"
      },
      "source": [
        "Obtaining the feature vectors of 2 pictures to be compared by running them through the NN Model"
      ],
      "id": "Jj6XRTQcJrPY"
    },
    {
      "cell_type": "code",
      "metadata": {
        "id": "97e453a9"
      },
      "source": [
        "\n",
        "feature_extractor = create_model()\n",
        "imgA = keras.Input(shape=(64, 64, 1))\n",
        "imgB = keras.Input(shape=(64, 64, 1))\n",
        "featA = feature_extractor(imgA)\n",
        "featB = feature_extractor(imgB)"
      ],
      "id": "97e453a9",
      "execution_count": null,
      "outputs": []
    },
    {
      "cell_type": "code",
      "metadata": {
        "id": "365d7049"
      },
      "source": [
        "from keras import backend as k"
      ],
      "id": "365d7049",
      "execution_count": null,
      "outputs": []
    },
    {
      "cell_type": "markdown",
      "metadata": {
        "id": "Sa0MQ3DMJvHv"
      },
      "source": [
        "Euclidean distance function for similarity calculation"
      ],
      "id": "Sa0MQ3DMJvHv"
    },
    {
      "cell_type": "code",
      "metadata": {
        "id": "39a63d57"
      },
      "source": [
        "\n",
        "def euclidean_distance(vectors):\n",
        "    (featA, featB) = vectors\n",
        "    sum_squared = k.sum(k.square(featA - featB), axis=1, keepdims=True)\n",
        "    return k.sqrt(sum_squared)\n",
        "\n",
        "distance = layers.Lambda(euclidean_distance)([featA, featB])\n",
        "outputs = layers.Dense(1, activation=\"sigmoid\")(distance)\n",
        "model = keras.Model(inputs=[imgA, imgB], outputs=outputs)"
      ],
      "id": "39a63d57",
      "execution_count": null,
      "outputs": []
    },
    {
      "cell_type": "code",
      "metadata": {
        "id": "dcba4019"
      },
      "source": [
        "model.compile(loss=\"BinaryCrossentropy\", optimizer=\"adam\" ,metrics=[\"accuracy\"])"
      ],
      "id": "dcba4019",
      "execution_count": null,
      "outputs": []
    },
    {
      "cell_type": "markdown",
      "metadata": {
        "id": "Zy08Nx9iJzYt"
      },
      "source": [
        "\n",
        "\n",
        "function to generate training image pairs"
      ],
      "id": "Zy08Nx9iJzYt"
    },
    {
      "cell_type": "code",
      "metadata": {
        "id": "652ff194"
      },
      "source": [
        "\n",
        "def generate_train_image_pairs(images_dataset, labels_dataset):\n",
        "    unique_labels = np.unique(labels_dataset)\n",
        "    label_wise_indices = dict()\n",
        "    for label in unique_labels:\n",
        "        label_wise_indices.setdefault(label,\n",
        "                                      [index for index, curr_label in enumerate(labels_dataset) if\n",
        "                                       label == curr_label])\n",
        "    \n",
        "    pair_images = []\n",
        "    pair_labels = []\n",
        "    for index, image in enumerate(images_dataset):\n",
        "        pos_indices = label_wise_indices.get(labels_dataset[index])\n",
        "        pos_image = images_dataset[np.random.choice(pos_indices)]\n",
        "        pair_images.append((image, pos_image))\n",
        "        pair_labels.append(1)\n",
        "\n",
        "        neg_indices = np.where(labels_dataset != labels_dataset[index])\n",
        "        neg_image = images_dataset[np.random.choice(neg_indices[0])]\n",
        "        pair_images.append((image, neg_image))\n",
        "        pair_labels.append(0)\n",
        "    return np.array(pair_images), np.array(pair_labels)"
      ],
      "id": "652ff194",
      "execution_count": null,
      "outputs": []
    },
    {
      "cell_type": "code",
      "metadata": {
        "colab": {
          "base_uri": "https://localhost:8080/"
        },
        "id": "cf5e42a1",
        "outputId": "470a6740-9122-4d32-bae0-297b5789f925"
      },
      "source": [
        "    images_pair, labels_pair = generate_train_image_pairs(images_dataset=data.images, labels_dataset=data.target)\n",
        "    history = model.fit([images_pair[:, 0], images_pair[:, 1]], labels_pair[:],validation_split=0.1,batch_size=64,epochs=100)\n",
        "    "
      ],
      "id": "cf5e42a1",
      "execution_count": null,
      "outputs": [
        {
          "output_type": "stream",
          "text": [
            "Epoch 1/100\n",
            "12/12 [==============================] - 40s 333ms/step - loss: 0.6950 - accuracy: 0.5000 - val_loss: 0.6933 - val_accuracy: 0.5000\n",
            "Epoch 2/100\n",
            "12/12 [==============================] - 2s 156ms/step - loss: 0.6932 - accuracy: 0.5000 - val_loss: 0.6932 - val_accuracy: 0.5000\n",
            "Epoch 3/100\n",
            "12/12 [==============================] - 2s 156ms/step - loss: 0.6933 - accuracy: 0.5000 - val_loss: 0.6933 - val_accuracy: 0.5000\n",
            "Epoch 4/100\n",
            "12/12 [==============================] - 2s 156ms/step - loss: 0.6936 - accuracy: 0.5000 - val_loss: 0.6933 - val_accuracy: 0.3750\n",
            "Epoch 5/100\n",
            "12/12 [==============================] - 2s 157ms/step - loss: 0.6930 - accuracy: 0.5000 - val_loss: 0.6932 - val_accuracy: 0.5000\n",
            "Epoch 6/100\n",
            "12/12 [==============================] - 2s 156ms/step - loss: 0.6933 - accuracy: 0.5000 - val_loss: 0.6932 - val_accuracy: 0.5000\n",
            "Epoch 7/100\n",
            "12/12 [==============================] - 2s 155ms/step - loss: 0.6936 - accuracy: 0.5000 - val_loss: 0.6932 - val_accuracy: 0.5000\n",
            "Epoch 8/100\n",
            "12/12 [==============================] - 2s 157ms/step - loss: 0.6932 - accuracy: 0.5000 - val_loss: 0.6932 - val_accuracy: 0.5000\n",
            "Epoch 9/100\n",
            "12/12 [==============================] - 2s 157ms/step - loss: 0.6933 - accuracy: 0.4889 - val_loss: 0.6932 - val_accuracy: 0.5000\n",
            "Epoch 10/100\n",
            "12/12 [==============================] - 2s 156ms/step - loss: 0.6931 - accuracy: 0.5028 - val_loss: 0.6932 - val_accuracy: 0.5000\n",
            "Epoch 11/100\n",
            "12/12 [==============================] - 2s 156ms/step - loss: 0.6933 - accuracy: 0.5042 - val_loss: 0.6932 - val_accuracy: 0.5000\n",
            "Epoch 12/100\n",
            "12/12 [==============================] - 2s 157ms/step - loss: 0.6932 - accuracy: 0.4806 - val_loss: 0.6932 - val_accuracy: 0.5000\n",
            "Epoch 13/100\n",
            "12/12 [==============================] - 2s 157ms/step - loss: 0.6932 - accuracy: 0.4917 - val_loss: 0.6932 - val_accuracy: 0.5000\n",
            "Epoch 14/100\n",
            "12/12 [==============================] - 2s 157ms/step - loss: 0.6934 - accuracy: 0.4736 - val_loss: 0.6932 - val_accuracy: 0.5000\n",
            "Epoch 15/100\n",
            "12/12 [==============================] - 2s 156ms/step - loss: 0.6932 - accuracy: 0.5069 - val_loss: 0.6932 - val_accuracy: 0.5000\n",
            "Epoch 16/100\n",
            "12/12 [==============================] - 2s 157ms/step - loss: 0.6933 - accuracy: 0.4931 - val_loss: 0.6932 - val_accuracy: 0.5000\n",
            "Epoch 17/100\n",
            "12/12 [==============================] - 2s 157ms/step - loss: 0.6933 - accuracy: 0.4778 - val_loss: 0.6932 - val_accuracy: 0.5000\n",
            "Epoch 18/100\n",
            "12/12 [==============================] - 2s 158ms/step - loss: 0.6938 - accuracy: 0.4944 - val_loss: 0.6932 - val_accuracy: 0.5000\n",
            "Epoch 19/100\n",
            "12/12 [==============================] - 2s 158ms/step - loss: 0.6933 - accuracy: 0.4875 - val_loss: 0.6932 - val_accuracy: 0.5000\n",
            "Epoch 20/100\n",
            "12/12 [==============================] - 2s 158ms/step - loss: 0.6935 - accuracy: 0.4806 - val_loss: 0.6932 - val_accuracy: 0.5000\n",
            "Epoch 21/100\n",
            "12/12 [==============================] - 2s 157ms/step - loss: 0.6934 - accuracy: 0.5153 - val_loss: 0.6932 - val_accuracy: 0.5000\n",
            "Epoch 22/100\n",
            "12/12 [==============================] - 2s 157ms/step - loss: 0.6935 - accuracy: 0.4972 - val_loss: 0.6932 - val_accuracy: 0.5000\n",
            "Epoch 23/100\n",
            "12/12 [==============================] - 2s 156ms/step - loss: 0.6931 - accuracy: 0.5069 - val_loss: 0.6932 - val_accuracy: 0.5000\n",
            "Epoch 24/100\n",
            "12/12 [==============================] - 2s 158ms/step - loss: 0.6928 - accuracy: 0.4986 - val_loss: 0.6932 - val_accuracy: 0.5000\n",
            "Epoch 25/100\n",
            "12/12 [==============================] - 2s 157ms/step - loss: 0.6932 - accuracy: 0.5042 - val_loss: 0.6932 - val_accuracy: 0.5000\n",
            "Epoch 26/100\n",
            "12/12 [==============================] - 2s 158ms/step - loss: 0.6932 - accuracy: 0.4986 - val_loss: 0.6932 - val_accuracy: 0.5000\n",
            "Epoch 27/100\n",
            "12/12 [==============================] - 2s 157ms/step - loss: 0.6936 - accuracy: 0.5056 - val_loss: 0.6932 - val_accuracy: 0.5000\n",
            "Epoch 28/100\n",
            "12/12 [==============================] - 2s 157ms/step - loss: 0.6928 - accuracy: 0.5111 - val_loss: 0.6932 - val_accuracy: 0.5000\n",
            "Epoch 29/100\n",
            "12/12 [==============================] - 2s 156ms/step - loss: 0.6935 - accuracy: 0.5028 - val_loss: 0.6932 - val_accuracy: 0.5000\n",
            "Epoch 30/100\n",
            "12/12 [==============================] - 2s 158ms/step - loss: 0.6935 - accuracy: 0.4931 - val_loss: 0.6932 - val_accuracy: 0.5000\n",
            "Epoch 31/100\n",
            "12/12 [==============================] - 2s 157ms/step - loss: 0.6933 - accuracy: 0.5069 - val_loss: 0.6932 - val_accuracy: 0.5000\n",
            "Epoch 32/100\n",
            "12/12 [==============================] - 2s 158ms/step - loss: 0.6940 - accuracy: 0.5125 - val_loss: 0.6932 - val_accuracy: 0.5000\n",
            "Epoch 33/100\n",
            "12/12 [==============================] - 2s 158ms/step - loss: 0.6933 - accuracy: 0.4861 - val_loss: 0.6932 - val_accuracy: 0.5000\n",
            "Epoch 34/100\n",
            "12/12 [==============================] - 2s 158ms/step - loss: 0.6932 - accuracy: 0.4889 - val_loss: 0.6932 - val_accuracy: 0.5000\n",
            "Epoch 35/100\n",
            "12/12 [==============================] - 2s 158ms/step - loss: 0.6931 - accuracy: 0.4861 - val_loss: 0.6932 - val_accuracy: 0.5000\n",
            "Epoch 36/100\n",
            "12/12 [==============================] - 2s 157ms/step - loss: 0.6929 - accuracy: 0.4972 - val_loss: 0.6932 - val_accuracy: 0.5000\n",
            "Epoch 37/100\n",
            "12/12 [==============================] - 2s 158ms/step - loss: 0.6940 - accuracy: 0.4903 - val_loss: 0.6932 - val_accuracy: 0.5000\n",
            "Epoch 38/100\n",
            "12/12 [==============================] - 2s 157ms/step - loss: 0.6935 - accuracy: 0.4861 - val_loss: 0.6932 - val_accuracy: 0.5000\n",
            "Epoch 39/100\n",
            "12/12 [==============================] - 2s 158ms/step - loss: 0.6936 - accuracy: 0.4569 - val_loss: 0.6932 - val_accuracy: 0.5000\n",
            "Epoch 40/100\n",
            "12/12 [==============================] - 2s 158ms/step - loss: 0.6933 - accuracy: 0.4806 - val_loss: 0.6932 - val_accuracy: 0.5000\n",
            "Epoch 41/100\n",
            "12/12 [==============================] - 2s 158ms/step - loss: 0.6933 - accuracy: 0.5069 - val_loss: 0.6932 - val_accuracy: 0.5000\n",
            "Epoch 42/100\n",
            "12/12 [==============================] - 2s 158ms/step - loss: 0.6933 - accuracy: 0.4806 - val_loss: 0.6933 - val_accuracy: 0.5000\n",
            "Epoch 43/100\n",
            "12/12 [==============================] - 2s 158ms/step - loss: 0.6931 - accuracy: 0.4861 - val_loss: 0.6932 - val_accuracy: 0.5000\n",
            "Epoch 44/100\n",
            "12/12 [==============================] - 2s 157ms/step - loss: 0.6931 - accuracy: 0.5111 - val_loss: 0.6932 - val_accuracy: 0.5000\n",
            "Epoch 45/100\n",
            "12/12 [==============================] - 2s 157ms/step - loss: 0.6933 - accuracy: 0.5028 - val_loss: 0.6932 - val_accuracy: 0.5000\n",
            "Epoch 46/100\n",
            "12/12 [==============================] - 2s 157ms/step - loss: 0.6939 - accuracy: 0.4569 - val_loss: 0.6932 - val_accuracy: 0.5000\n",
            "Epoch 47/100\n",
            "12/12 [==============================] - 2s 159ms/step - loss: 0.6936 - accuracy: 0.4444 - val_loss: 0.6932 - val_accuracy: 0.5000\n",
            "Epoch 48/100\n",
            "12/12 [==============================] - 2s 159ms/step - loss: 0.6933 - accuracy: 0.4667 - val_loss: 0.6932 - val_accuracy: 0.5000\n",
            "Epoch 49/100\n",
            "12/12 [==============================] - 2s 159ms/step - loss: 0.6935 - accuracy: 0.4819 - val_loss: 0.6932 - val_accuracy: 0.5000\n",
            "Epoch 50/100\n",
            "12/12 [==============================] - 2s 159ms/step - loss: 0.6936 - accuracy: 0.4722 - val_loss: 0.6932 - val_accuracy: 0.5000\n",
            "Epoch 51/100\n",
            "12/12 [==============================] - 2s 158ms/step - loss: 0.6931 - accuracy: 0.5097 - val_loss: 0.6932 - val_accuracy: 0.5000\n",
            "Epoch 52/100\n",
            "12/12 [==============================] - 2s 158ms/step - loss: 0.6932 - accuracy: 0.4958 - val_loss: 0.6932 - val_accuracy: 0.5000\n",
            "Epoch 53/100\n",
            "12/12 [==============================] - 2s 158ms/step - loss: 0.6935 - accuracy: 0.4569 - val_loss: 0.6932 - val_accuracy: 0.5000\n",
            "Epoch 54/100\n",
            "12/12 [==============================] - 2s 159ms/step - loss: 0.6929 - accuracy: 0.5194 - val_loss: 0.6932 - val_accuracy: 0.5000\n",
            "Epoch 55/100\n",
            "12/12 [==============================] - 2s 158ms/step - loss: 0.6931 - accuracy: 0.5153 - val_loss: 0.6932 - val_accuracy: 0.5000\n",
            "Epoch 56/100\n",
            "12/12 [==============================] - 2s 160ms/step - loss: 0.6929 - accuracy: 0.5264 - val_loss: 0.6932 - val_accuracy: 0.5000\n",
            "Epoch 57/100\n",
            "12/12 [==============================] - 2s 158ms/step - loss: 0.6929 - accuracy: 0.5028 - val_loss: 0.6932 - val_accuracy: 0.5000\n",
            "Epoch 58/100\n",
            "12/12 [==============================] - 2s 158ms/step - loss: 0.6931 - accuracy: 0.5222 - val_loss: 0.6932 - val_accuracy: 0.5000\n",
            "Epoch 59/100\n",
            "12/12 [==============================] - 2s 159ms/step - loss: 0.6932 - accuracy: 0.4833 - val_loss: 0.6932 - val_accuracy: 0.5000\n",
            "Epoch 60/100\n",
            "12/12 [==============================] - 2s 159ms/step - loss: 0.6934 - accuracy: 0.4847 - val_loss: 0.6932 - val_accuracy: 0.5000\n",
            "Epoch 61/100\n",
            "12/12 [==============================] - 2s 159ms/step - loss: 0.6930 - accuracy: 0.4833 - val_loss: 0.6932 - val_accuracy: 0.5000\n",
            "Epoch 62/100\n",
            "12/12 [==============================] - 2s 159ms/step - loss: 0.6928 - accuracy: 0.5181 - val_loss: 0.6932 - val_accuracy: 0.5000\n",
            "Epoch 63/100\n",
            "12/12 [==============================] - 2s 159ms/step - loss: 0.6933 - accuracy: 0.5236 - val_loss: 0.6932 - val_accuracy: 0.5000\n",
            "Epoch 64/100\n",
            "12/12 [==============================] - 2s 160ms/step - loss: 0.6928 - accuracy: 0.5236 - val_loss: 0.6932 - val_accuracy: 0.5000\n",
            "Epoch 65/100\n",
            "12/12 [==============================] - 2s 159ms/step - loss: 0.6942 - accuracy: 0.4750 - val_loss: 0.6932 - val_accuracy: 0.5000\n",
            "Epoch 66/100\n",
            "12/12 [==============================] - 2s 158ms/step - loss: 0.6944 - accuracy: 0.4806 - val_loss: 0.6932 - val_accuracy: 0.5000\n",
            "Epoch 67/100\n",
            "12/12 [==============================] - 2s 159ms/step - loss: 0.6936 - accuracy: 0.4917 - val_loss: 0.6933 - val_accuracy: 0.5000\n",
            "Epoch 68/100\n",
            "12/12 [==============================] - 2s 159ms/step - loss: 0.6934 - accuracy: 0.4861 - val_loss: 0.6933 - val_accuracy: 0.5000\n",
            "Epoch 69/100\n",
            "12/12 [==============================] - 2s 159ms/step - loss: 0.6933 - accuracy: 0.4875 - val_loss: 0.6933 - val_accuracy: 0.5000\n",
            "Epoch 70/100\n",
            "12/12 [==============================] - 2s 159ms/step - loss: 0.6932 - accuracy: 0.5014 - val_loss: 0.6933 - val_accuracy: 0.5000\n",
            "Epoch 71/100\n",
            "12/12 [==============================] - 2s 159ms/step - loss: 0.6934 - accuracy: 0.5056 - val_loss: 0.6933 - val_accuracy: 0.5000\n",
            "Epoch 72/100\n",
            "12/12 [==============================] - 2s 160ms/step - loss: 0.6931 - accuracy: 0.5181 - val_loss: 0.6933 - val_accuracy: 0.5000\n",
            "Epoch 73/100\n",
            "12/12 [==============================] - 2s 159ms/step - loss: 0.6930 - accuracy: 0.5028 - val_loss: 0.6933 - val_accuracy: 0.5000\n",
            "Epoch 74/100\n",
            "12/12 [==============================] - 2s 160ms/step - loss: 0.6932 - accuracy: 0.5000 - val_loss: 0.6933 - val_accuracy: 0.5000\n",
            "Epoch 75/100\n",
            "12/12 [==============================] - 2s 159ms/step - loss: 0.6934 - accuracy: 0.4750 - val_loss: 0.6933 - val_accuracy: 0.5000\n",
            "Epoch 76/100\n",
            "12/12 [==============================] - 2s 159ms/step - loss: 0.6932 - accuracy: 0.4986 - val_loss: 0.6933 - val_accuracy: 0.5000\n",
            "Epoch 77/100\n",
            "12/12 [==============================] - 2s 160ms/step - loss: 0.6931 - accuracy: 0.5028 - val_loss: 0.6933 - val_accuracy: 0.5000\n",
            "Epoch 78/100\n",
            "12/12 [==============================] - 2s 160ms/step - loss: 0.6933 - accuracy: 0.4819 - val_loss: 0.6933 - val_accuracy: 0.5000\n",
            "Epoch 79/100\n",
            "12/12 [==============================] - 2s 160ms/step - loss: 0.6929 - accuracy: 0.5153 - val_loss: 0.6933 - val_accuracy: 0.5000\n",
            "Epoch 80/100\n",
            "12/12 [==============================] - 2s 159ms/step - loss: 0.6930 - accuracy: 0.5139 - val_loss: 0.6932 - val_accuracy: 0.5000\n",
            "Epoch 81/100\n",
            "12/12 [==============================] - 2s 158ms/step - loss: 0.6933 - accuracy: 0.4750 - val_loss: 0.6932 - val_accuracy: 0.5000\n",
            "Epoch 82/100\n",
            "12/12 [==============================] - 2s 160ms/step - loss: 0.6926 - accuracy: 0.4889 - val_loss: 0.6933 - val_accuracy: 0.5000\n",
            "Epoch 83/100\n",
            "12/12 [==============================] - 2s 159ms/step - loss: 0.6938 - accuracy: 0.4875 - val_loss: 0.6933 - val_accuracy: 0.5000\n",
            "Epoch 84/100\n",
            "12/12 [==============================] - 2s 160ms/step - loss: 0.6938 - accuracy: 0.4806 - val_loss: 0.6933 - val_accuracy: 0.5000\n",
            "Epoch 85/100\n",
            "12/12 [==============================] - 2s 159ms/step - loss: 0.6933 - accuracy: 0.5111 - val_loss: 0.6933 - val_accuracy: 0.5000\n",
            "Epoch 86/100\n",
            "12/12 [==============================] - 2s 160ms/step - loss: 0.6933 - accuracy: 0.4972 - val_loss: 0.6933 - val_accuracy: 0.5000\n",
            "Epoch 87/100\n",
            "12/12 [==============================] - 2s 159ms/step - loss: 0.6929 - accuracy: 0.5236 - val_loss: 0.6933 - val_accuracy: 0.5000\n",
            "Epoch 88/100\n",
            "12/12 [==============================] - 2s 160ms/step - loss: 0.6938 - accuracy: 0.4764 - val_loss: 0.6933 - val_accuracy: 0.5000\n",
            "Epoch 89/100\n",
            "12/12 [==============================] - 2s 161ms/step - loss: 0.6929 - accuracy: 0.5264 - val_loss: 0.6932 - val_accuracy: 0.5000\n",
            "Epoch 90/100\n",
            "12/12 [==============================] - 2s 160ms/step - loss: 0.6939 - accuracy: 0.4847 - val_loss: 0.6932 - val_accuracy: 0.5000\n",
            "Epoch 91/100\n",
            "12/12 [==============================] - 2s 160ms/step - loss: 0.6932 - accuracy: 0.5236 - val_loss: 0.6933 - val_accuracy: 0.5000\n",
            "Epoch 92/100\n",
            "12/12 [==============================] - 2s 160ms/step - loss: 0.6933 - accuracy: 0.4903 - val_loss: 0.6933 - val_accuracy: 0.5000\n",
            "Epoch 93/100\n",
            "12/12 [==============================] - 2s 160ms/step - loss: 0.6934 - accuracy: 0.5153 - val_loss: 0.6933 - val_accuracy: 0.5000\n",
            "Epoch 94/100\n",
            "12/12 [==============================] - 2s 160ms/step - loss: 0.6930 - accuracy: 0.5014 - val_loss: 0.6933 - val_accuracy: 0.5000\n",
            "Epoch 95/100\n",
            "12/12 [==============================] - 2s 160ms/step - loss: 0.6931 - accuracy: 0.4917 - val_loss: 0.6933 - val_accuracy: 0.5000\n",
            "Epoch 96/100\n",
            "12/12 [==============================] - 2s 160ms/step - loss: 0.6934 - accuracy: 0.5028 - val_loss: 0.6933 - val_accuracy: 0.5000\n",
            "Epoch 97/100\n",
            "12/12 [==============================] - 2s 160ms/step - loss: 0.6930 - accuracy: 0.5056 - val_loss: 0.6933 - val_accuracy: 0.5000\n",
            "Epoch 98/100\n",
            "12/12 [==============================] - 2s 161ms/step - loss: 0.6931 - accuracy: 0.5042 - val_loss: 0.6933 - val_accuracy: 0.5000\n",
            "Epoch 99/100\n",
            "12/12 [==============================] - 2s 160ms/step - loss: 0.6931 - accuracy: 0.4875 - val_loss: 0.6933 - val_accuracy: 0.5000\n",
            "Epoch 100/100\n",
            "12/12 [==============================] - 2s 161ms/step - loss: 0.6930 - accuracy: 0.5028 - val_loss: 0.6933 - val_accuracy: 0.5000\n"
          ],
          "name": "stdout"
        }
      ]
    },
    {
      "cell_type": "markdown",
      "metadata": {
        "id": "6XcnJQpuJ3hn"
      },
      "source": [
        "function to generate testing image pairs"
      ],
      "id": "6XcnJQpuJ3hn"
    },
    {
      "cell_type": "code",
      "metadata": {
        "id": "ubjnhL0TzW_S"
      },
      "source": [
        "\n",
        "def generate_test_image_pairs(images_dataset, labels_dataset, image):\n",
        "    unique_labels = np.unique(labels_dataset)\n",
        "    label_wise_indices = dict()\n",
        "    for label in unique_labels:\n",
        "      label_wise_indices.setdefault(label,[index for index, curr_label in enumerate(labels_dataset) if label == curr_label])\n",
        "  \n",
        "    pair_images = []\n",
        "    pair_labels = []\n",
        "    for label, indices_for_label in label_wise_indices.items():\n",
        "        test_image = images_dataset[np.random.choice(indices_for_label)]\n",
        "        pair_images.append((image, test_image))\n",
        "        pair_labels.append(label)\n",
        "    return np.array(pair_images), np.array(pair_labels)"
      ],
      "id": "ubjnhL0TzW_S",
      "execution_count": null,
      "outputs": []
    },
    {
      "cell_type": "code",
      "metadata": {
        "id": "RGR6mPoGzyOk"
      },
      "source": [
        "images_dataset=data.images\n",
        "labels_dataset=data.target\n",
        "image = images_dataset[92] # a random image as test image\n",
        "test_image_pairs, test_label_pairs = generate_test_image_pairs(images_dataset, labels_dataset, image)\n",
        " # produce an array of test image pairs and test label pairs\n",
        "pred=[]\n",
        "# for each pair in the test image pair, predict the similarity between the images\n",
        "for index, pair in enumerate(test_image_pairs):\n",
        "  pair_image1 = np.expand_dims(pair[0], axis=-1)\n",
        "  pair_image1 = np.expand_dims(pair_image1, axis=0)\n",
        "  pair_image2 = np.expand_dims(pair[1], axis=-1)\n",
        "  pair_image2 = np.expand_dims(pair_image2, axis=0)\n",
        "  prediction = model.predict([pair_image1, pair_image2])[0][0]\n",
        "  pred.append(prediction)"
      ],
      "id": "RGR6mPoGzyOk",
      "execution_count": null,
      "outputs": []
    },
    {
      "cell_type": "markdown",
      "metadata": {
        "id": "PzyB3c_iJ93c"
      },
      "source": [
        "testing the algorithm on pictures from the internet\n"
      ],
      "id": "PzyB3c_iJ93c"
    },
    {
      "cell_type": "code",
      "metadata": {
        "id": "8FaqFTapBfpT"
      },
      "source": [
        "\n",
        "import cv2"
      ],
      "id": "8FaqFTapBfpT",
      "execution_count": null,
      "outputs": []
    },
    {
      "cell_type": "code",
      "metadata": {
        "id": "Nb8I9W2ACTHy",
        "colab": {
          "base_uri": "https://localhost:8080/",
          "height": 202
        },
        "outputId": "0243b103-b352-4349-fb70-3fb1a50392bc"
      },
      "source": [
        "imo1=cv2.imread('imk.jpg')\n",
        "grayImage1 = cv2.cvtColor(imo1, cv2.COLOR_BGR2GRAY)\n",
        "grayImage1 = cv2.resize(grayImage1,(64,64))\n"
      ],
      "id": "Nb8I9W2ACTHy",
      "execution_count": null,
      "outputs": [
        {
          "output_type": "error",
          "ename": "error",
          "evalue": "ignored",
          "traceback": [
            "\u001b[0;31m---------------------------------------------------------------------------\u001b[0m",
            "\u001b[0;31merror\u001b[0m                                     Traceback (most recent call last)",
            "\u001b[0;32m<ipython-input-14-dc7eab0ae620>\u001b[0m in \u001b[0;36m<module>\u001b[0;34m()\u001b[0m\n\u001b[1;32m      1\u001b[0m \u001b[0mimo1\u001b[0m\u001b[0;34m=\u001b[0m\u001b[0mcv2\u001b[0m\u001b[0;34m.\u001b[0m\u001b[0mimread\u001b[0m\u001b[0;34m(\u001b[0m\u001b[0;34m'imk.jpg'\u001b[0m\u001b[0;34m)\u001b[0m\u001b[0;34m\u001b[0m\u001b[0;34m\u001b[0m\u001b[0m\n\u001b[0;32m----> 2\u001b[0;31m \u001b[0mgrayImage1\u001b[0m \u001b[0;34m=\u001b[0m \u001b[0mcv2\u001b[0m\u001b[0;34m.\u001b[0m\u001b[0mcvtColor\u001b[0m\u001b[0;34m(\u001b[0m\u001b[0mimo1\u001b[0m\u001b[0;34m,\u001b[0m \u001b[0mcv2\u001b[0m\u001b[0;34m.\u001b[0m\u001b[0mCOLOR_BGR2GRAY\u001b[0m\u001b[0;34m)\u001b[0m\u001b[0;34m\u001b[0m\u001b[0;34m\u001b[0m\u001b[0m\n\u001b[0m\u001b[1;32m      3\u001b[0m \u001b[0mgrayImage1\u001b[0m \u001b[0;34m=\u001b[0m \u001b[0mcv2\u001b[0m\u001b[0;34m.\u001b[0m\u001b[0mresize\u001b[0m\u001b[0;34m(\u001b[0m\u001b[0mgrayImage1\u001b[0m\u001b[0;34m,\u001b[0m\u001b[0;34m(\u001b[0m\u001b[0;36m64\u001b[0m\u001b[0;34m,\u001b[0m\u001b[0;36m64\u001b[0m\u001b[0;34m)\u001b[0m\u001b[0;34m)\u001b[0m\u001b[0;34m\u001b[0m\u001b[0;34m\u001b[0m\u001b[0m\n",
            "\u001b[0;31merror\u001b[0m: OpenCV(4.1.2) /io/opencv/modules/imgproc/src/color.cpp:182: error: (-215:Assertion failed) !_src.empty() in function 'cvtColor'\n"
          ]
        }
      ]
    },
    {
      "cell_type": "code",
      "metadata": {
        "id": "DG-ghvCxDpzw"
      },
      "source": [
        "imo2=cv2.imread('imk1.jpg')\n",
        "grayImage2 = cv2.cvtColor(imo2, cv2.COLOR_BGR2GRAY)\n",
        "grayImage2 = cv2.resize(grayImage2,(64,64)) #resizing the resolution to fit the model"
      ],
      "id": "DG-ghvCxDpzw",
      "execution_count": null,
      "outputs": []
    },
    {
      "cell_type": "code",
      "metadata": {
        "id": "p-Lxzx9mpTN5"
      },
      "source": [
        "from google.colab.patches import cv2_imshow"
      ],
      "id": "p-Lxzx9mpTN5",
      "execution_count": null,
      "outputs": []
    },
    {
      "cell_type": "code",
      "metadata": {
        "id": "WtvpISgopYhv"
      },
      "source": [
        "cv2_imshow(grayImage2)\n",
        "cv2_imshow(grayImage1)"
      ],
      "id": "WtvpISgopYhv",
      "execution_count": null,
      "outputs": []
    },
    {
      "cell_type": "code",
      "metadata": {
        "id": "1pkOYoeIpcK6"
      },
      "source": [
        "x=np.array((grayImage1,grayImage1))\n",
        "cv2_imshow(x[0])"
      ],
      "id": "1pkOYoeIpcK6",
      "execution_count": null,
      "outputs": []
    },
    {
      "cell_type": "code",
      "metadata": {
        "id": "ynJ4kU1pp1mw"
      },
      "source": [
        "#running sample images through the siamese nn to check for a similarity score\n",
        "pair1_image1 = np.expand_dims(x[0], axis=-1)\n",
        "pair1_image1 = np.expand_dims(pair1_image1, axis=0)\n",
        "pair2_image2 = np.expand_dims(x[1], axis=-1)\n",
        "pair2_image2 = np.expand_dims(pair2_image2, axis=0)\n",
        "prediction1 = model.predict([pair1_image1, pair2_image2])[0][0]\n",
        "print(prediction1)"
      ],
      "id": "ynJ4kU1pp1mw",
      "execution_count": null,
      "outputs": []
    },
    {
      "cell_type": "code",
      "metadata": {
        "id": "aVukAoDItgkI"
      },
      "source": [
        ""
      ],
      "id": "aVukAoDItgkI",
      "execution_count": null,
      "outputs": []
    },
    {
      "cell_type": "code",
      "metadata": {
        "id": "1dm-VnaFtjDv"
      },
      "source": [
        ""
      ],
      "id": "1dm-VnaFtjDv",
      "execution_count": null,
      "outputs": []
    }
  ]
}